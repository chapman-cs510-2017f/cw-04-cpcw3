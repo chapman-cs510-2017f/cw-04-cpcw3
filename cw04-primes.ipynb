{
 "cells": [
  {
   "cell_type": "code",
   "execution_count": 1,
   "metadata": {
    "collapsed": false
   },
   "outputs": [
   ],
   "source": [
    "import primes\n",
    "import timeit"
   ]
  },
  {
   "cell_type": "markdown",
   "metadata": {
    "collapsed": false
   },
   "source": [
    "# The Sieve of Eratosthenes\n",
    "\n",
    "The Sieve of Eratosthenes will take a list of all integers between 2 and n, and systematically remove numbers until only a list of primes up to n remain. It starts with 2 and removes all multiples of 2. Then it moves to the next largest remaining prime and removes all multiples of that. This repeats until only the primes are left.\n"
   ]
  },
  {
   "cell_type": "markdown",
   "metadata": {
    "collapsed": false
   },
   "source": [
    "# Generating Prime Numbers\n",
    "\n",
    "Our generator starts at 2, and checks whether there is a previous prime (stored in a list of primes we have found so far) that is a divisior of the current number. If there is, then it is not prime, and  we increment. Otherwise we add it to our list, yield the number, and THEN increment.\n",
    "\n",
    "It is not as efficient because it will still check multiples of previous primes, the original implementation will not."
   ]
  },
  {
   "cell_type": "code",
   "execution_count": 2,
   "metadata": {
    "collapsed": false
   },
   "outputs": [
    {
     "name": "stdout",
     "output_type": "stream",
     "text": [
      "[2, 3, 5, 7, 11, 13, 17, 19, 23, 29]\n"
     ]
    }
   ],
   "source": [
    "k = primes.gen_eratosthenes()\n",
    "print([next(k) for _ in range(10)])"
   ]
  },
  {
   "cell_type": "code",
   "execution_count": 3,
   "metadata": {
    "collapsed": false
   },
   "outputs": [
    {
     "name": "stdout",
     "output_type": "stream",
     "text": [
      "CPU times: user 0 ns, sys: 0 ns, total: 0 ns\n",
      "Wall time: 12.6 µs\n",
      "CPU times: user 0 ns, sys: 0 ns, total: 0 ns\n",
      "Wall time: 24.3 µs\n",
      "CPU times: user 0 ns, sys: 0 ns, total: 0 ns\n",
      "Wall time: 44.1 µs\n"
     ]
    },
    {
     "name": "stdout",
     "output_type": "stream",
     "text": [
      "512 ns ± 39.4 ns per loop (mean ± std. dev. of 7 runs, 1000000 loops each)\n"
     ]
    },
    {
     "name": "stdout",
     "output_type": "stream",
     "text": [
      "6.35 µs ± 803 ns per loop (mean ± std. dev. of 7 runs, 100000 loops each)\n"
     ]
    },
    {
     "name": "stdout",
     "output_type": "stream",
     "text": [
      "18.1 µs ± 2.2 µs per loop (mean ± std. dev. of 7 runs, 100000 loops each)\n"
     ]
    }
   ],
   "source": [
    "#Benchmark Implementations\n",
    "%time k = primes.gen_eratosthenes()\n",
    "[next(k) for _ in range(4)]\n",
    "\n",
    "%time primes.eratosthenes(10)\n",
    "%time primes.era2(10)\n",
    "\n",
    "\n",
    "%timeit k = primes.gen_eratosthenes()\n",
    "[next(k) for _ in range(4)]\n",
    "%timeit primes.eratosthenes(10)\n",
    "%timeit primes.era2(10)"
   ]
  },
  {
   "cell_type": "markdown",
   "metadata": {
    "collapsed": false
   },
   "source": [
    "Our generator ended up being faster by around 4x, this might be because  for smaller primes, it would take a long time to check every single number in a list with  len(n), whereas in our generator, it only needs to do a modulo for each previous prime.\n",
    "\n",
    "This did not match our predictions."
   ]
  }
 ],
 "metadata": {
  "kernelspec": {
   "display_name": "Python 3 (Anaconda)",
   "language": "python",
   "name": "anaconda3"
  },
  "language_info": {
   "codemirror_mode": {
    "name": "ipython",
    "version": 3
   },
   "file_extension": ".py",
   "mimetype": "text/x-python",
   "name": "python",
   "nbconvert_exporter": "python",
   "pygments_lexer": "ipython3",
   "version": "3.5.4"
  }
 },
 "nbformat": 4,
 "nbformat_minor": 0
}