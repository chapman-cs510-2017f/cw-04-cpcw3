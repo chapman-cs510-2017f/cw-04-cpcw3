{
 "cells": [
  {
   "cell_type": "code",
   "execution_count": 3,
   "metadata": {
    "collapsed": false
   },
   "outputs": [
   ],
   "source": [
    "import primes\n",
    "import timeit"
   ]
  },
  {
   "cell_type": "markdown",
   "metadata": {
    "collapsed": false
   },
   "source": [
    "# The Sieve of Eratosthenes\n",
    "\n",
    "The Sieve of Eratosthenes will take a list of all integers between 2 and n, and systematically remove numbers until only a list of primes up to n remain. It starts with 2 and removes all multiples of 2. Then it moves to the next largest remaining prime and removes all multiples of that. This repeats until only the primes are left.\n"
   ]
  },
  {
   "cell_type": "markdown",
   "metadata": {
    "collapsed": false
   },
   "source": [
    "# Generating Prime Numbers\n",
    "\n",
    "Our generator starts at 2, and checks whether there is a previous prime (stored in a list of primes we have found so far) that is a divisior of the current number. If there is, then it is not prime, and  we increment. Otherwise we add it to our list, yield the number, and THEN increment.\n",
    "\n",
    "It is not as efficient because it will still check multiples of previous primes, the original implementation will not."
   ]
  },
  {
   "cell_type": "code",
   "execution_count": 8,
   "metadata": {
    "collapsed": false
   },
   "outputs": [
    {
     "name": "stdout",
     "output_type": "stream",
     "text": [
      "[2, 3, 5, 7, 11, 13, 17, 19, 23, 29]\n"
     ]
    }
   ],
   "source": [
    "k = primes.gen_eratosthenes()\n",
    "print([next(k) for _ in range(10)])"
   ]
  },
  {
   "cell_type": "code",
   "execution_count": 14,
   "metadata": {
    "collapsed": false
   },
   "outputs": [
    {
     "name": "stdout",
     "output_type": "stream",
     "text": [
      "CPU times: user 0 ns, sys: 0 ns, total: 0 ns\n",
      "Wall time: 8.82 µs\n",
      "CPU times: user 0 ns, sys: 0 ns, total: 0 ns\n",
      "Wall time: 24.1 µs\n"
     ]
    },
    {
     "name": "stdout",
     "output_type": "stream",
     "text": [
      "1000000 loops, best of 3: 481 ns per loop\n"
     ]
    },
    {
     "name": "stdout",
     "output_type": "stream",
     "text": [
      "The slowest run took 4.89 times longer than the fastest. This could mean that an intermediate result is being cached.\n",
      "100000 loops, best of 3: 4.08 µs per loop\n"
     ]
    }
   ],
   "source": [
    "#Benchmark Implementations\n",
    "%time k = primes.gen_eratosthenes()\n",
    "[next(k) for _ in range(4)]\n",
    "\n",
    "%time primes.eratosthenes(10)\n",
    "\n",
    "\n",
    "%timeit k = primes.gen_eratosthenes()\n",
    "[next(k) for _ in range(4)]\n",
    "\n",
    "\n",
    "%timeit primes.eratosthenes(10)"
   ]
  },
  {
   "cell_type": "markdown",
   "metadata": {
    "collapsed": false
   },
   "source": [
    "Our generator ended up being faster by around 4x, this might be because  for smaller primes, it would take a long time to check every single number in a list with  len(n), whereas in our generator, it only needs to do a modulo for each previous prime.\n",
    "\n",
    "This did not match our predictions."
   ]
  }
 ],
 "metadata": {
  "kernelspec": {
   "display_name": "Python 2 (SageMath)",
   "language": "python",
   "name": "python2"
  }
 },
 "nbformat": 4,
 "nbformat_minor": 0
}