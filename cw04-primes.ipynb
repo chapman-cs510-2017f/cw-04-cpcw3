{
 "cells": [
  {
   "cell_type": "code",
   "execution_count": 0,
   "metadata": {
    "collapsed": false
   },
   "outputs": [
   ],
   "source": [
    "import primes"
   ]
  },
  {
   "cell_type": "code",
   "execution_count": 0,
   "metadata": {
    "collapsed": false
   },
   "outputs": [
   ],
   "source": [
    "# The Sieve of Eratosthenes\n",
    "\n",
    "The Sieve of Eratosthenes will take a list of all integers between 2 and n, and systematically remove numbers until only a list of primes up to n remain. It starts with 2 and removes all multiples of 2. Then it moves to the next largest remaining prime and removes all multiples of that. This repeats until only the primes are left.\n"
   ]
  }
 ],
 "metadata": {
  "kernelspec": {
   "display_name": "Python 2 (SageMath)",
   "language": "python",
   "name": "python2"
  }
 },
 "nbformat": 4,
 "nbformat_minor": 0
}